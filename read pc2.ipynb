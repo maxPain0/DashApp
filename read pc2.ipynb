{
 "cells": [
  {
   "cell_type": "code",
   "execution_count": 4,
   "metadata": {
    "collapsed": true
   },
   "outputs": [
    {
     "ename": "ModuleNotFoundError",
     "evalue": "No module named 'rospy'",
     "output_type": "error",
     "traceback": [
      "\u001B[0;31m---------------------------------------------------------------------------\u001B[0m",
      "\u001B[0;31mModuleNotFoundError\u001B[0m                       Traceback (most recent call last)",
      "\u001B[0;32m<ipython-input-4-498220b93502>\u001B[0m in \u001B[0;36m<module>\u001B[0;34m\u001B[0m\n\u001B[1;32m     15\u001B[0m \u001B[0;31m# unpack_from = struct.Struct(fmt).unpack_from\u001B[0m\u001B[0;34m\u001B[0m\u001B[0;34m\u001B[0m\u001B[0;34m\u001B[0m\u001B[0m\n\u001B[1;32m     16\u001B[0m \u001B[0;34m\u001B[0m\u001B[0m\n\u001B[0;32m---> 17\u001B[0;31m \u001B[0;32mimport\u001B[0m \u001B[0mrospy\u001B[0m\u001B[0;34m\u001B[0m\u001B[0;34m\u001B[0m\u001B[0m\n\u001B[0m\u001B[1;32m     18\u001B[0m \u001B[0;32mimport\u001B[0m \u001B[0mpcl\u001B[0m\u001B[0;34m\u001B[0m\u001B[0;34m\u001B[0m\u001B[0m\n\u001B[1;32m     19\u001B[0m \u001B[0;32mfrom\u001B[0m \u001B[0msensor_msgs\u001B[0m\u001B[0;34m.\u001B[0m\u001B[0mmsg\u001B[0m \u001B[0;32mimport\u001B[0m \u001B[0mPointCloud2\u001B[0m\u001B[0;34m\u001B[0m\u001B[0;34m\u001B[0m\u001B[0m\n",
      "\u001B[0;31mModuleNotFoundError\u001B[0m: No module named 'rospy'"
     ]
    }
   ],
   "source": [
    "#http://docs.ros.org/en/indigo/api/sensor_msgs/html/point__cloud2_8py_source.html\n",
    "# import roslib\n",
    "# import sensor_msgs as pc2\n",
    "#\n",
    "#\n",
    "# def on_scan(self, scan):\n",
    "#     rospy.loginfo(\"Got scan, projecting\")\n",
    "#     cloud = self.laser_projector.projectLaser(scan)\n",
    "#     gen = pc2.read_points(cloud, skip_nans=True, field_names=(\"x\", \"y\", \"z\"))\n",
    "#     self.xyz_generator = gen\n",
    "#\n",
    "#\n",
    "# fmt = _get_struct_fmt(cloud.is_bigendian, cloud.fields, field_names)\n",
    "# width, height, point_step, row_step, data, isnan = cloud.width, cloud.height, cloud.point_step, cloud.row_step, cloud.data, math.isnan\n",
    "# unpack_from = struct.Struct(fmt).unpack_from\n",
    "\n",
    "import rospy\n",
    "import pcl\n",
    "from sensor_msgs.msg import PointCloud2\n",
    "import sensor_msgs.point_cloud2 as pc2\n",
    "import ros_numpy\n",
    "\n",
    "def callback(data):\n",
    "    pc = ros_numpy.numpify(data)\n",
    "    points=np.zeros((pc.shape[0],3))\n",
    "    points[:,0]=pc['x']\n",
    "    points[:,1]=pc['y']\n",
    "    points[:,2]=pc['z']\n",
    "    p = pcl.PointCloud(np.array(points, dtype=np.float32))\n",
    "\n",
    "rospy.init_node('listener', anonymous=True)\n",
    "rospy.Subscriber(\"/velodyne_points\", PointCloud2, callback)\n",
    "rospy.spin()"
   ]
  }
 ],
 "metadata": {
  "kernelspec": {
   "display_name": "Python 3",
   "language": "python",
   "name": "python3"
  },
  "language_info": {
   "codemirror_mode": {
    "name": "ipython",
    "version": 2
   },
   "file_extension": ".py",
   "mimetype": "text/x-python",
   "name": "python",
   "nbconvert_exporter": "python",
   "pygments_lexer": "ipython2",
   "version": "2.7.6"
  }
 },
 "nbformat": 4,
 "nbformat_minor": 0
}